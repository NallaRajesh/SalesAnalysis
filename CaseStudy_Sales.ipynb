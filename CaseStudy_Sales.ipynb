{
 "cells": [
  {
   "cell_type": "code",
   "execution_count": 1,
   "metadata": {},
   "outputs": [],
   "source": [
    "#load required packages and data for analysis\n",
    "\n",
    "import pandas as pd\n",
    "Sales_Data = pd.read_excel(r\"C:\\Users\\rajesnal\\Desktop\\Case Study - Deep Dive Analysis.xlsx\")"
   ]
  },
  {
   "cell_type": "code",
   "execution_count": 2,
   "metadata": {},
   "outputs": [],
   "source": [
    "#Grouping the data by Zone, Region, Brand, Subbrand, Item w.r.t manufacturer and month\n",
    "\n",
    "Sales_Zone = Sales_Data.groupby(['Manufacturer','Zone','month']).sum().reset_index()\n",
    "Sales_Region = Sales_Data.groupby(['Manufacturer','Region','month']).sum().reset_index()\n",
    "Sales_Brand = Sales_Data.groupby(['Manufacturer','Brand','month']).sum().reset_index()\n",
    "Sales_Subbrand = Sales_Data.groupby(['Manufacturer','Subbrand','month']).sum().reset_index()\n",
    "Sales_Item = Sales_Data.groupby(['Manufacturer','Item','month']).sum().reset_index()"
   ]
  },
  {
   "cell_type": "code",
   "execution_count": 3,
   "metadata": {},
   "outputs": [],
   "source": [
    "#Renaming columns Zone, Region, Brand, Subbrand, Item as focus_area and adding new column Level after that appending the all the data\n",
    "\n",
    "Sales_Zone_new = Sales_Zone.rename(columns = {'Zone':'focus_area'})\n",
    "Sales_Zone_new['Level'] = 'Zone'\n",
    "\n",
    "Sales_Region_new = Sales_Region.rename(columns = {'Region':'focus_area'})\n",
    "Sales_Region_new['Level'] = 'Region'\n",
    "\n",
    "Sales_Brand_new = Sales_Brand.rename(columns = {'Brand':'focus_area'})\n",
    "Sales_Brand_new['Level'] = 'Brand'\n",
    "\n",
    "Sales_Subbrand_new = Sales_Subbrand.rename(columns = {'Subbrand':'focus_area'})\n",
    "Sales_Subbrand_new['Level'] = 'Subbrand'\n",
    "\n",
    "Sales_Item_new = Sales_Item.rename(columns = {'Item':'focus_area'})\n",
    "Sales_Item_new['Level'] = 'Item'\n",
    "\n",
    "Sales_Final_Data = Sales_Zone_new.append([Sales_Region_new,Sales_Brand_new,Sales_Subbrand_new,Sales_Item_new])"
   ]
  },
  {
   "cell_type": "code",
   "execution_count": 13,
   "metadata": {},
   "outputs": [],
   "source": [
    "# Developed the function SalesDeepDiveAnalysis and giving input variables as Manufacturer, target_period, reference_period\n",
    "\n",
    "def SalesDeepDiveAnalysis(Manufacturer, target_period, reference_period ):\n",
    "    \n",
    "    df_Manufacturer = Sales_Final_Data[Sales_Final_Data['Manufacturer']==Manufacturer]\n",
    "    df_Target = df_Manufacturer[df_Manufacturer['month']==target_period]\n",
    "    df_Target_new = df_Target.rename(columns = {'month':'target_period','Value Offtake(000 Rs)':'target Value'})\n",
    "    df_Reference = df_Manufacturer[df_Manufacturer['month']==reference_period]\n",
    "    df_Reference_new = df_Reference.rename(columns = {'month':'reference_period','Value Offtake(000 Rs)':'reference Value'})\n",
    "    df_sales = pd.merge(df_Target_new, df_Reference_new, on=['Manufacturer','focus_area','Level'], how='inner')\n",
    "    target_total =  df_sales['target Value'].sum() \n",
    "    reference_total =  df_sales['reference Value'].sum()\n",
    "    if target_total > reference_total :\n",
    "        \n",
    "        print(\"There is no drop in the sales for a\" +\" \"+ Manufacturer +\" \"+ \"in the\" + \" \"+target_period+\".\")\n",
    "        \n",
    "    else:\n",
    "        df_sales['growth_rate'] = ((df_sales['target Value'] - df_sales['reference Value'] ) * 100 / df_sales['reference Value']).round(0)\n",
    "        df_sales['contribution'] = ((df_sales['target Value'] )*100/target_total).round(0)\n",
    "        df_sales['product'] = ((df_sales['growth_rate']* df_sales['contribution'])/10000).round(3) \n",
    "        df_sales['growth_rate'] = df_sales['growth_rate'].astype(str) + '%'\n",
    "        df_sales['contribution'] = df_sales['contribution'].astype(str) + '%'\n",
    "        DeepDiveAnalysis_Sales = pd.DataFrame([df_sales['Manufacturer'],df_sales['Level'],df_sales['focus_area'],df_sales['growth_rate'],df_sales['contribution'],df_sales['product']])\n",
    "        DeepDiveAnalysis_Sales=DeepDiveAnalysis_Sales.T.sort_values('product',ascending=True)\n",
    "        DeepDiveAnalysis_Sales=DeepDiveAnalysis_Sales.reset_index(drop=True)\n",
    "        print(DeepDiveAnalysis_Sales)\n",
    "        \n",
    "    "
   ]
  },
  {
   "cell_type": "code",
   "execution_count": 24,
   "metadata": {},
   "outputs": [
    {
     "name": "stdout",
     "output_type": "stream",
     "text": [
      "   Manufacturer     Level                          focus_area growth_rate  \\\n",
      "0        NESTLE     Brand                                MILO      -16.0%   \n",
      "1        NESTLE  Subbrand                      MILO ACTIVE GO      -16.0%   \n",
      "2        NESTLE      Item  MILO ACTIVE GO 400 GMS REFILL PACK      -30.0%   \n",
      "3        NESTLE      Zone                               North      -33.0%   \n",
      "4        NESTLE    Region                               Urban      -11.0%   \n",
      "5        NESTLE      Zone                                East      -29.0%   \n",
      "6        NESTLE    Region                               Rural      -29.0%   \n",
      "7        NESTLE      Item                       NESTLE_item_3      -24.0%   \n",
      "8        NESTLE      Item                       NESTLE_item_2      -12.0%   \n",
      "9        NESTLE      Zone                               South        2.0%   \n",
      "10       NESTLE      Item                       NESTLE_item_1        7.0%   \n",
      "11       NESTLE      Item                       NESTLE_item_4       10.0%   \n",
      "12       NESTLE      Zone                                West       29.0%   \n",
      "\n",
      "   contribution product  \n",
      "0         20.0%  -0.032  \n",
      "1         20.0%  -0.032  \n",
      "2          7.0%  -0.021  \n",
      "3          6.0%   -0.02  \n",
      "4         16.0%  -0.018  \n",
      "5          5.0%  -0.014  \n",
      "6          4.0%  -0.012  \n",
      "7          2.0%  -0.005  \n",
      "8          3.0%  -0.004  \n",
      "9          3.0%   0.001  \n",
      "10         4.0%   0.003  \n",
      "11         3.0%   0.003  \n",
      "12         6.0%   0.017  \n"
     ]
    }
   ],
   "source": [
    "# Run the function with your required details\n",
    "\n",
    "SalesDeepDiveAnalysis(\"NESTLE\", \"Feb2019\",\"Jan2019\")"
   ]
  },
  {
   "cell_type": "code",
   "execution_count": null,
   "metadata": {},
   "outputs": [],
   "source": []
  }
 ],
 "metadata": {
  "kernelspec": {
   "display_name": "Python 3",
   "language": "python",
   "name": "python3"
  },
  "language_info": {
   "codemirror_mode": {
    "name": "ipython",
    "version": 3
   },
   "file_extension": ".py",
   "mimetype": "text/x-python",
   "name": "python",
   "nbconvert_exporter": "python",
   "pygments_lexer": "ipython3",
   "version": "3.7.6"
  }
 },
 "nbformat": 4,
 "nbformat_minor": 4
}
